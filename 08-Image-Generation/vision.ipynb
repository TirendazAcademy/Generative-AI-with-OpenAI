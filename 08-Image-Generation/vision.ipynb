{
 "cells": [
  {
   "cell_type": "code",
   "execution_count": 1,
   "metadata": {},
   "outputs": [
    {
     "data": {
      "text/plain": [
       "True"
      ]
     },
     "execution_count": 1,
     "metadata": {},
     "output_type": "execute_result"
    }
   ],
   "source": [
    "from dotenv import load_dotenv\n",
    "\n",
    "load_dotenv(override=True)"
   ]
  },
  {
   "cell_type": "code",
   "execution_count": 2,
   "metadata": {},
   "outputs": [],
   "source": [
    "from openai import OpenAI \n",
    "\n",
    "client = OpenAI()"
   ]
  },
  {
   "cell_type": "code",
   "execution_count": 4,
   "metadata": {},
   "outputs": [],
   "source": [
    "response = client.chat.completions.create(\n",
    "    model = \"gpt-4-vision-preview\",\n",
    "    messages = [\n",
    "        {\n",
    "            \"role\":\"user\",\n",
    "            \"content\":[\n",
    "                {\"type\":\"text\",\n",
    "                 \"text\":\"What is in this image?\"},\n",
    "                {\"type\":\"image_url\",\n",
    "                 \"image_url\":\"https://img.freepik.com/free-photo/fresh-healthy-kiwi-composition-tasty_1172-545.jpg\"}\n",
    "                \"detail\":\"high\",\n",
    "            ]\n",
    "        }\n",
    "    ],\n",
    "    max_tokens = 300,\n",
    ")"
   ]
  },
  {
   "cell_type": "code",
   "execution_count": 5,
   "metadata": {},
   "outputs": [
    {
     "name": "stdout",
     "output_type": "stream",
     "text": [
      "This image contains an assortment of fruits. From left to right, there are:\n",
      "\n",
      "- Kiwis\n",
      "- A red apple\n",
      "- A pineapple in the center\n",
      "- Green grapes below the pineapple\n",
      "- An orange placed at the bottom center\n",
      "- A cluster of bananas to the right\n",
      "- Rambutan fruits are seen at the bottom right corner, with their distinctive hairy outer shells\n",
      "- Finally, a green apple is seen above the orange.\n",
      "\n",
      "The fruits are arranged on a white background.\n"
     ]
    }
   ],
   "source": [
    "print(response.choices[0].message.content)"
   ]
  },
  {
   "cell_type": "code",
   "execution_count": null,
   "metadata": {},
   "outputs": [],
   "source": []
  }
 ],
 "metadata": {
  "kernelspec": {
   "display_name": "myenv",
   "language": "python",
   "name": "python3"
  },
  "language_info": {
   "codemirror_mode": {
    "name": "ipython",
    "version": 3
   },
   "file_extension": ".py",
   "mimetype": "text/x-python",
   "name": "python",
   "nbconvert_exporter": "python",
   "pygments_lexer": "ipython3",
   "version": "3.10.6"
  }
 },
 "nbformat": 4,
 "nbformat_minor": 2
}
