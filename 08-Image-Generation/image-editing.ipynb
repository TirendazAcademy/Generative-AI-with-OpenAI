{
 "cells": [
  {
   "cell_type": "code",
   "execution_count": 1,
   "metadata": {},
   "outputs": [
    {
     "data": {
      "text/plain": [
       "True"
      ]
     },
     "execution_count": 1,
     "metadata": {},
     "output_type": "execute_result"
    }
   ],
   "source": [
    "from dotenv import load_dotenv\n",
    "\n",
    "load_dotenv(override=True)"
   ]
  },
  {
   "cell_type": "code",
   "execution_count": 2,
   "metadata": {},
   "outputs": [],
   "source": [
    "from openai import OpenAI \n",
    "\n",
    "client = OpenAI()"
   ]
  },
  {
   "cell_type": "code",
   "execution_count": 5,
   "metadata": {},
   "outputs": [],
   "source": [
    "response = client.images.edit(\n",
    "    model = \"dall-e-2\",\n",
    "    image = open(\"images/sunlit_lounge.png\", \"rb\"),\n",
    "    mask = open(\"images/sunlit-mask.png\", \"rb\"),\n",
    "    prompt = \"A sunlit indoor lounge area with pool\\\n",
    "        containing a flamingo.\",\n",
    "    n = 1, \n",
    "    size = \"1024x1024\",\n",
    ")"
   ]
  },
  {
   "cell_type": "code",
   "execution_count": 6,
   "metadata": {},
   "outputs": [
    {
     "data": {
      "text/plain": [
       "'https://oaidalleapiprodscus.blob.core.windows.net/private/org-zAaWD26EK66RJmXeF5vAXC5G/user-KYvk5ySb3Azso9qNTqDJoYgn/img-i5UaCJFhV5b8roujKvYjR1J5.png?st=2024-01-22T13%3A38%3A35Z&se=2024-01-22T15%3A38%3A35Z&sp=r&sv=2021-08-06&sr=b&rscd=inline&rsct=image/png&skoid=6aaadede-4fb3-4698-a8f6-684d7786b067&sktid=a48cca56-e6da-484e-a814-9c849652bcb3&skt=2024-01-22T03%3A52%3A52Z&ske=2024-01-23T03%3A52%3A52Z&sks=b&skv=2021-08-06&sig=40azh%2BG1CztU1jqCA6eQ0DJA4Dg/8fnh7Y5jsDv8RSo%3D'"
      ]
     },
     "execution_count": 6,
     "metadata": {},
     "output_type": "execute_result"
    }
   ],
   "source": [
    "image_url = response.data[0].url\n",
    "image_url "
   ]
  },
  {
   "cell_type": "code",
   "execution_count": null,
   "metadata": {},
   "outputs": [],
   "source": []
  }
 ],
 "metadata": {
  "kernelspec": {
   "display_name": "myenv",
   "language": "python",
   "name": "python3"
  },
  "language_info": {
   "codemirror_mode": {
    "name": "ipython",
    "version": 3
   },
   "file_extension": ".py",
   "mimetype": "text/x-python",
   "name": "python",
   "nbconvert_exporter": "python",
   "pygments_lexer": "ipython3",
   "version": "3.10.6"
  }
 },
 "nbformat": 4,
 "nbformat_minor": 2
}
