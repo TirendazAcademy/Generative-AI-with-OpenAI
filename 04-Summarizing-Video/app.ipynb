{
 "cells": [
  {
   "cell_type": "code",
   "execution_count": 1,
   "metadata": {},
   "outputs": [
    {
     "data": {
      "text/plain": [
       "True"
      ]
     },
     "execution_count": 1,
     "metadata": {},
     "output_type": "execute_result"
    }
   ],
   "source": [
    "from dotenv import load_dotenv\n",
    "\n",
    "load_dotenv(override = True)"
   ]
  },
  {
   "cell_type": "code",
   "execution_count": 2,
   "metadata": {},
   "outputs": [],
   "source": [
    "import os, openai \n",
    "\n",
    "openai.api_key = os.getenv(\"OPENAI_API_KEY\")"
   ]
  },
  {
   "cell_type": "code",
   "execution_count": 3,
   "metadata": {},
   "outputs": [],
   "source": [
    "with open(\"transcript.txt\", \"r\") as f:\n",
    "    transcript = f.read()"
   ]
  },
  {
   "cell_type": "code",
   "execution_count": 4,
   "metadata": {},
   "outputs": [
    {
     "data": {
      "text/plain": [
       "'Bilgisayar ve teknolojiye oldum olası ilgiliyimdir ve iPhone, iPod Touch ve iPad için birkaç uygulam'"
      ]
     },
     "execution_count": 4,
     "metadata": {},
     "output_type": "execute_result"
    }
   ],
   "source": [
    "transcript[:100]"
   ]
  },
  {
   "cell_type": "code",
   "execution_count": 5,
   "metadata": {},
   "outputs": [
    {
     "data": {
      "text/plain": [
       "3447"
      ]
     },
     "execution_count": 5,
     "metadata": {},
     "output_type": "execute_result"
    }
   ],
   "source": [
    "len(transcript)"
   ]
  },
  {
   "cell_type": "code",
   "execution_count": 6,
   "metadata": {},
   "outputs": [],
   "source": [
    "from openai import OpenAI \n",
    "\n",
    "client = OpenAI()"
   ]
  },
  {
   "cell_type": "code",
   "execution_count": 10,
   "metadata": {},
   "outputs": [],
   "source": [
    "response = client.chat.completions.create(\n",
    "    model = \"gpt-3.5-turbo\",\n",
    "    messages = [\n",
    "        {\"role\": \"system\", \"content\":\"You are a helpful assistant.\"},\n",
    "        {\"role\": \"user\", \"content\":\"Summarize the following text in the language of the text\"},\n",
    "        {\"role\": \"assistant\", \"content\": \"Okay.\"},\n",
    "        {\"role\": \"user\", \"content\": transcript}\n",
    "    ]\n",
    ")"
   ]
  },
  {
   "cell_type": "code",
   "execution_count": 11,
   "metadata": {},
   "outputs": [
    {
     "name": "stdout",
     "output_type": "stream",
     "text": [
      "The text talks about the author's interest in computers and technology and how they developed several applications for iPhone, iPod Touch, and iPad. They mention two of their favorite applications: a unique fortune-telling app called Dünya Falı and a game called Bustin Jieber, a mole-hitting game with Justin Bieber. The author explains their motivation for creating the Justin Bieber game, and the challenges they faced in learning app development. They describe their approach of learning programming languages and taking advantage of the iPhone software development kit. The author also discusses their experience with app development, including overcoming obstacles and getting support from their family, friends, and teachers. They mention the creation of an app club at their school and their participation in the iPad Pilot Program. They emphasize the importance of teachers being knowledgeable about technology and utilizing resources like this one. The author expresses their future aspirations, including developing more apps and games, working with an external company, exploring Android programming, and finding new ways for students to share their knowledge.\n"
     ]
    }
   ],
   "source": [
    "print(response.choices[0].message.content)"
   ]
  },
  {
   "cell_type": "code",
   "execution_count": 12,
   "metadata": {},
   "outputs": [],
   "source": [
    "response = client.chat.completions.create(\n",
    "    model = \"gpt-3.5-turbo\",\n",
    "    messages = [\n",
    "        {\"role\": \"system\", \"content\":\"You are a helpful assistant.\"},\n",
    "        {\"role\": \"user\", \"content\":\"Summarize the following text in the language of the text in Turkish\"},\n",
    "        {\"role\": \"assistant\", \"content\": \"Okay.\"},\n",
    "        {\"role\": \"user\", \"content\": transcript}\n",
    "    ]\n",
    ")"
   ]
  },
  {
   "cell_type": "code",
   "execution_count": 13,
   "metadata": {},
   "outputs": [
    {
     "name": "stdout",
     "output_type": "stream",
     "text": [
      "Ben, bilgisayarlara ve teknolojiye olan ilgimle iPhone, iPod Touch ve iPad için birkaç uygulama geliştirdim. Bunlardan bazılarını sizinle paylaşmak istiyorum. İlk uygulamam Dünya Falı adını taşıyan eşsiz bir fal programıydı ve talihinize göre farklı dünya renklerini gösteriyordu. En sevdiğim ve başarılı bulduğum uygulama ise Bustin Jieber adını taşıyan bir (kahkahalar) köstebek vurmaca oyununun Justin Bieber'lı versiyonuydu. Okulumuzda Justin Bieber'dan hoşlanmayan birçok kişi olduğu için bu oyunu geliştirmeye karar verdim. Uygulamayı programlamaya başladım ve 2010 Noel'inden önce satışa sunuldu. Birçok insan bana nasıl yaptığımı soruyor çünkü genellikle soran kişilerin kendi uygulamalarını yapmak istediklerini söylüyorlar. Çocuklar günümüzde oyun oynamayı seviyor ama artık kendi oyunlarını yapmak istiyorlar ve bu kolay bir iş değil çünkü çoğu çocuk programlama öğrenmek için nereye gideceğini bilmiyor. Bir futbol takımı için futbol takımına gidersiniz, bir keman çalmayı öğrenmek isterseniz keman dersleri alırsınız. Peki ya bir uygulama geliştirmek isterseniz ne yaparsınız? Ve çocukların aileleri gençken böyle şeyler yapmış olabilirler ama uygulama geliştiren aileler çok yaygın değiller. (kahkahalar) Bir uygulama geliştirmek için nereye gitmeniz gerektiğini biliyor musunuz? Bu konuyu bu şekilde ele aldım. Yaptığım şey şuydu: Başlangıç seviyesinde birkaç farklı programlama diliyle çalışarak temel becerilerimi geliştirdim, örneğin Python, C, Java gibi. Ardından Apple, iPhone'u piyasaya sürdü ve iPhone uygulama geliştirme kiti ile birçok araç sunarak büyük fırsatlar sundu. Bu benim için kapıları açan bir fırsattı ve yazılım geliştirme kitiyle biraz uğraştıktan sonra deneme amaçlı birkaç uygulama yazdım. Dünya Falı da bu denemelerimden biriydi ve App Store'a koymaya hazırdım. Bunun için aileme 99 Dolar ödeme yaparak ikna oldular ve uygulamamı App Store'a koydum. Şimdi App Store'da kendi uygulamalarım mevcut. İlgim ve cesaretim büyüdü, bunu aileme, arkadaşlarıma, öğretmenlerime ve hatta Apple Store'daki insanlara borçluyum, hepsi bana büyük ölçüde yardımcı oldular. Steve Jobs'tan ilham aldım ve okuldaki bir uygulama kulübü kurmaya karar verdim, bunun için bir öğretmenin sponsorluğunu aldım. Okuldaki her öğrenci uygulama geliştirmeyi öğrenmek için kulübe gelebilir. Bu şekilde deneyimlerimi diğerlerle paylaşıyorum. iPad Pilot Programı adı verilen bazı programlara katılma şansım oldu ve bazı bölgelerde bu programlar mevcut. En zorlayıcı kısım ise iPad'lerin nasıl kullanılacağı ve hangi uygulamaların yükleneceğidir. Bu nedenle, okuldaki öğretmenlerden geri bildirim alarak neleri sevdiklerini öğreniyoruz. Bir uygulama tasarlayıp sattığımızda, yerel bölgelerde ücretsiz oluyor ve diğer bölgelerden gelen gelirler yerel kuruluşlara bağışlanıyor. Günümüzde öğrenciler, teknoloji konusunda öğretmenlerden biraz daha fazla bilgili olabiliyorlar. (kahkahalar) Bu yüzden -- (kahkahalar) üzgünüm -- (kahkahalar) bu nedenle, öğretmenlerin bu kaynağın farkında olması ve ondan faydalanabilmesi önemlidir. Gelecekte ne yapmak istediğimi söyleyerek bitirmek istiyorum. İlk olarak, daha fazla uygulama ve oyun geliştirmek istiyorum. Şu anda bir uygulama için bağlantılı olmayan bir şirketle çalışıyorum. Ayrıca, Android programlama ve geliştirme alanına girmek ve uygulama kulübümü sürdürerek öğrencilerin bilgilerini diğer insanlarla paylaşabilecekleri farklı yollar bulmak istiyorum. Teşekkürler. (alkışlar)\n"
     ]
    }
   ],
   "source": [
    "print(response.choices[0].message.content)"
   ]
  },
  {
   "cell_type": "code",
   "execution_count": null,
   "metadata": {},
   "outputs": [],
   "source": []
  }
 ],
 "metadata": {
  "kernelspec": {
   "display_name": "myenv",
   "language": "python",
   "name": "python3"
  },
  "language_info": {
   "codemirror_mode": {
    "name": "ipython",
    "version": 3
   },
   "file_extension": ".py",
   "mimetype": "text/x-python",
   "name": "python",
   "nbconvert_exporter": "python",
   "pygments_lexer": "ipython3",
   "version": "3.10.6"
  }
 },
 "nbformat": 4,
 "nbformat_minor": 2
}
