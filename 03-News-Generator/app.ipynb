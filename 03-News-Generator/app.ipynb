{
 "cells": [
  {
   "cell_type": "code",
   "execution_count": 1,
   "metadata": {},
   "outputs": [
    {
     "data": {
      "text/plain": [
       "True"
      ]
     },
     "execution_count": 1,
     "metadata": {},
     "output_type": "execute_result"
    }
   ],
   "source": [
    "from dotenv import load_dotenv\n",
    "\n",
    "load_dotenv(override=True)  "
   ]
  },
  {
   "cell_type": "code",
   "execution_count": 2,
   "metadata": {},
   "outputs": [],
   "source": [
    "import os \n",
    "import openai\n",
    "\n",
    "openai_api_key = os.getenv(\"OPENAI_API_KEY\")\n",
    "openai.api_key = openai_api_key"
   ]
  },
  {
   "cell_type": "code",
   "execution_count": 3,
   "metadata": {},
   "outputs": [],
   "source": [
    "from openai import OpenAI \n",
    "client = OpenAI()"
   ]
  },
  {
   "cell_type": "code",
   "execution_count": 8,
   "metadata": {},
   "outputs": [],
   "source": [
    "def ask_chatgpt(messages):\n",
    "    response = client.chat.completions.create(\n",
    "        model = \"gpt-3.5-turbo\",\n",
    "        messages = messages,\n",
    "    )\n",
    "    return (response.choices[0].message.content)"
   ]
  },
  {
   "cell_type": "code",
   "execution_count": 9,
   "metadata": {},
   "outputs": [],
   "source": [
    "propmt_role = \"You are an assistant for journalists. \\\n",
    "    Your task is to write articles based on the facts given to you \\\n",
    "    Consider the following as the instructions: TONE, LENGTH, STYLE, and LANGUAGE.\""
   ]
  },
  {
   "cell_type": "code",
   "execution_count": 10,
   "metadata": {},
   "outputs": [],
   "source": [
    "from typing import List\n",
    "\n",
    "def new_generator(\n",
    "    facts: List[str], tone: str, length_words: int, style: str, language: str,\n",
    "):\n",
    "    facts: \",\".join(facts)\n",
    "    prompt = f\"{propmt_role} \\\n",
    "        FACTS : {facts} \\\n",
    "        TONE: {tone} \\\n",
    "        LENGTH: {length_words} words \\\n",
    "        STYLE: {style} \\\n",
    "        LANGUAGE: {language}\"\n",
    "    return ask_chatgpt([\n",
    "        {\"role\":\"user\", \"content\": prompt}\n",
    "    ])"
   ]
  },
  {
   "cell_type": "code",
   "execution_count": 11,
   "metadata": {},
   "outputs": [
    {
     "name": "stdout",
     "output_type": "stream",
     "text": [
      "Title: Nature's Vibrant Hues: The Blue Sea and Green Tree\n",
      "\n",
      "Hey there, nature enthusiasts! Today, let's marvel at the breathtaking colors that surround us—starting with the deep blue sea and the lush green tree. \n",
      "\n",
      "The sea, as we all know, holds a special place in our hearts. Its vastness, combined with its ever-changing shades of blue, evokes a sense of tranquility. From turquoise to navy, its brilliance captivates our imagination while calming our minds.\n",
      "\n",
      "Similarly, the green tree stands tall, providing shade and shelter. Its vibrant leaves beautifully showcase the spectrum of green, from emerald to lime. A gentle breeze rustles through the branches, whispering stories of growth and resilience.\n",
      "\n",
      "Nature truly spoils us with its vivid colors, reminding us to appreciate the wonders that exist beyond our busy lives.\n",
      "\n",
      "And there you have it, folks—two incredible parts of our natural world, each imbued with its own allure. So, next time you find yourself near the sea or under the canopy of a mighty tree, take a moment to soak in the beauty and let it rejuvenate your soul.\n",
      "\n",
      "Until next time, keep exploring and cherishing the wonders of nature!\n",
      "\n",
      "Word count: 111 words.\n"
     ]
    }
   ],
   "source": [
    "print(\n",
    "    new_generator(\n",
    "        [\"The sea is blue\", \"The tree is green\"], \"informal\", 100, \"blogpost\", \"english\"\n",
    "    )\n",
    ")"
   ]
  },
  {
   "cell_type": "code",
   "execution_count": 12,
   "metadata": {},
   "outputs": [
    {
     "name": "stdout",
     "output_type": "stream",
     "text": [
      "Yeni bir iş aramak genellikle zorlu bir süreç olabilir, özellikle de değişen teknoloji dünyasında. Generatif yapay zeka (AI), son zamanlarda gelişen bir alan olarak karşımıza çıkıyor. Ancak, iş arayanlar için bu alanın iş imkanlarının nerede olduğunu bulmak zor olabilir. Bu yeni ve heyecan verici alanda iş bulmak için çabalamak biraz ürkütücü olabilir. Şansınızı denemek isterseniz, bu alanda kendinizi geliştirerek iş fırsatlarını artırabilirsiniz. Gelecekle uyumlu olmak için generatif AI konusunda bilgi edinmek, iş arama stratejinizi belirleyebilir.\n"
     ]
    }
   ],
   "source": [
    "print(\n",
    "    new_generator(\n",
    "        [\"Generative AI is a new field\", \"It is difficult to find a job\"],\n",
    "         \"informal\", 100, \"blogpost\", \"turkish\"\n",
    "    )\n",
    ")"
   ]
  },
  {
   "cell_type": "code",
   "execution_count": null,
   "metadata": {},
   "outputs": [],
   "source": []
  }
 ],
 "metadata": {
  "kernelspec": {
   "display_name": "Python 3",
   "language": "python",
   "name": "python3"
  },
  "language_info": {
   "codemirror_mode": {
    "name": "ipython",
    "version": 3
   },
   "file_extension": ".py",
   "mimetype": "text/x-python",
   "name": "python",
   "nbconvert_exporter": "python",
   "pygments_lexer": "ipython3",
   "version": "3.10.6"
  }
 },
 "nbformat": 4,
 "nbformat_minor": 2
}
