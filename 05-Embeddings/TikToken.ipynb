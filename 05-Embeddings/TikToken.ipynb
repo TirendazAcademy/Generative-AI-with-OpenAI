{
  "nbformat": 4,
  "nbformat_minor": 0,
  "metadata": {
    "colab": {
      "provenance": [],
      "authorship_tag": "ABX9TyP6rKRMT0EABaOsq5w5qXLg",
      "include_colab_link": true
    },
    "kernelspec": {
      "name": "python3",
      "display_name": "Python 3"
    },
    "language_info": {
      "name": "python"
    }
  },
  "cells": [
    {
      "cell_type": "markdown",
      "metadata": {
        "id": "view-in-github",
        "colab_type": "text"
      },
      "source": [
        "<a href=\"https://colab.research.google.com/github/TirendazAcademy/Generative-AI-with-OpenAI/blob/main/TikToken.ipynb\" target=\"_parent\"><img src=\"https://colab.research.google.com/assets/colab-badge.svg\" alt=\"Open In Colab\"/></a>"
      ]
    },
    {
      "cell_type": "code",
      "execution_count": null,
      "metadata": {
        "id": "kllccKGVN9LT"
      },
      "outputs": [],
      "source": [
        "!pip install -U tiktoken openai"
      ]
    },
    {
      "cell_type": "code",
      "source": [
        "import tiktoken"
      ],
      "metadata": {
        "id": "86ZeHWGHOHZw"
      },
      "execution_count": 2,
      "outputs": []
    },
    {
      "cell_type": "code",
      "source": [
        "encoding = tiktoken.get_encoding(\"cl100k_base\")"
      ],
      "metadata": {
        "id": "EEhf_EI0OI8O"
      },
      "execution_count": 3,
      "outputs": []
    },
    {
      "cell_type": "code",
      "source": [
        "encoding.encode(\"Generative AI is great!\")"
      ],
      "metadata": {
        "colab": {
          "base_uri": "https://localhost:8080/"
        },
        "id": "Av4nVOAYOPjx",
        "outputId": "1bcc4a9b-5dd1-4a20-acc2-6b462dbe66e1"
      },
      "execution_count": 4,
      "outputs": [
        {
          "output_type": "execute_result",
          "data": {
            "text/plain": [
              "[5648, 1413, 15592, 374, 2294, 0]"
            ]
          },
          "metadata": {},
          "execution_count": 4
        }
      ]
    },
    {
      "cell_type": "code",
      "source": [
        "encoding.decode([5648, 1413, 15592, 374, 2294, 0])"
      ],
      "metadata": {
        "colab": {
          "base_uri": "https://localhost:8080/",
          "height": 35
        },
        "id": "izRO0JimOWI2",
        "outputId": "44c573b9-a4bf-4299-e11f-b1a370d66719"
      },
      "execution_count": 5,
      "outputs": [
        {
          "output_type": "execute_result",
          "data": {
            "text/plain": [
              "'Generative AI is great!'"
            ],
            "application/vnd.google.colaboratory.intrinsic+json": {
              "type": "string"
            }
          },
          "metadata": {},
          "execution_count": 5
        }
      ]
    },
    {
      "cell_type": "code",
      "source": [
        "def num_tokens_from_string(string: str, encoding_name: str) -> int:\n",
        "\tencoding = tiktoken.get_encoding(encoding_name)\n",
        "\tnum_tokens = len(encoding.encode(string))\n",
        "\treturn num_tokens"
      ],
      "metadata": {
        "id": "Sy9aTFJBOWe0"
      },
      "execution_count": 6,
      "outputs": []
    },
    {
      "cell_type": "code",
      "source": [
        "num_tokens_from_string(\"Generative AI is great!\", \"cl100k_base\")"
      ],
      "metadata": {
        "colab": {
          "base_uri": "https://localhost:8080/"
        },
        "id": "cUTGldWJOeyE",
        "outputId": "547011fe-cacf-4628-ee3c-d21b1e408740"
      },
      "execution_count": 7,
      "outputs": [
        {
          "output_type": "execute_result",
          "data": {
            "text/plain": [
              "6"
            ]
          },
          "metadata": {},
          "execution_count": 7
        }
      ]
    },
    {
      "cell_type": "code",
      "source": [
        "def compare_encodings(example_string: str) -> None:\n",
        "    print(f'\\nExample string: \"{example_string}\"')\n",
        "    for encoding_name in [\"r50k_base\", \"p50k_base\", \"cl100k_base\"]:\n",
        "        encoding = tiktoken.get_encoding(encoding_name)\n",
        "        token_integers = encoding.encode(example_string)\n",
        "        num_tokens = len(token_integers)\n",
        "        token_bytes = [encoding.decode_single_token_bytes(token) for token in token_integers]\n",
        "        print()\n",
        "        print(f\"{encoding_name}: {num_tokens} tokens\")\n",
        "        print(f\"token integers: {token_integers}\")\n",
        "        print(f\"token bytes: {token_bytes}\")"
      ],
      "metadata": {
        "id": "b0312eCxOfPs"
      },
      "execution_count": 8,
      "outputs": []
    },
    {
      "cell_type": "code",
      "source": [
        "compare_encodings(\"antidisestablishmentarianism\")"
      ],
      "metadata": {
        "colab": {
          "base_uri": "https://localhost:8080/"
        },
        "id": "Joe8dbyYOyui",
        "outputId": "bfd5e2a0-8ea4-4429-8deb-c9c840102c34"
      },
      "execution_count": 11,
      "outputs": [
        {
          "output_type": "stream",
          "name": "stdout",
          "text": [
            "\n",
            "Example string: \"antidisestablishmentarianism\"\n",
            "\n",
            "r50k_base: 5 tokens\n",
            "token integers: [415, 29207, 44390, 3699, 1042]\n",
            "token bytes: [b'ant', b'idis', b'establishment', b'arian', b'ism']\n",
            "\n",
            "p50k_base: 5 tokens\n",
            "token integers: [415, 29207, 44390, 3699, 1042]\n",
            "token bytes: [b'ant', b'idis', b'establishment', b'arian', b'ism']\n",
            "\n",
            "cl100k_base: 6 tokens\n",
            "token integers: [519, 85342, 34500, 479, 8997, 2191]\n",
            "token bytes: [b'ant', b'idis', b'establish', b'ment', b'arian', b'ism']\n"
          ]
        }
      ]
    },
    {
      "cell_type": "code",
      "source": [
        "compare_encodings(\"3 + 3 = 6\")"
      ],
      "metadata": {
        "colab": {
          "base_uri": "https://localhost:8080/"
        },
        "id": "9hW7nRnnO0h9",
        "outputId": "6c1ca598-e1da-441d-e14d-a65ea38880fd"
      },
      "execution_count": 12,
      "outputs": [
        {
          "output_type": "stream",
          "name": "stdout",
          "text": [
            "\n",
            "Example string: \"3 + 3 = 6\"\n",
            "\n",
            "r50k_base: 5 tokens\n",
            "token integers: [18, 1343, 513, 796, 718]\n",
            "token bytes: [b'3', b' +', b' 3', b' =', b' 6']\n",
            "\n",
            "p50k_base: 5 tokens\n",
            "token integers: [18, 1343, 513, 796, 718]\n",
            "token bytes: [b'3', b' +', b' 3', b' =', b' 6']\n",
            "\n",
            "cl100k_base: 7 tokens\n",
            "token integers: [18, 489, 220, 18, 284, 220, 21]\n",
            "token bytes: [b'3', b' +', b' ', b'3', b' =', b' ', b'6']\n"
          ]
        }
      ]
    },
    {
      "cell_type": "code",
      "source": [
        "compare_encodings(\"Bugün hava çok yağmurlu.\")"
      ],
      "metadata": {
        "colab": {
          "base_uri": "https://localhost:8080/"
        },
        "id": "XTqWNkLJPxV9",
        "outputId": "5b6ddaa0-0cfe-471d-c091-c3123cd146d5"
      },
      "execution_count": 13,
      "outputs": [
        {
          "output_type": "stream",
          "name": "stdout",
          "text": [
            "\n",
            "Example string: \"Bugün hava çok yağmurlu.\"\n",
            "\n",
            "r50k_base: 13 tokens\n",
            "token integers: [25624, 9116, 77, 387, 6862, 6184, 100, 482, 21349, 33133, 28582, 2290, 13]\n",
            "token bytes: [b'Bug', b'\\xc3\\xbc', b'n', b' ha', b'va', b' \\xc3', b'\\xa7', b'ok', b' ya', b'\\xc4\\x9f', b'mur', b'lu', b'.']\n",
            "\n",
            "p50k_base: 13 tokens\n",
            "token integers: [25624, 9116, 77, 387, 6862, 6184, 100, 482, 21349, 33133, 28582, 2290, 13]\n",
            "token bytes: [b'Bug', b'\\xc3\\xbc', b'n', b' ha', b'va', b' \\xc3', b'\\xa7', b'ok', b' ya', b'\\xc4\\x9f', b'mur', b'lu', b'.']\n",
            "\n",
            "cl100k_base: 11 tokens\n",
            "token integers: [47873, 16461, 305, 2979, 58112, 13835, 11257, 76, 1103, 84, 13]\n",
            "token bytes: [b'Bug', b'\\xc3\\xbcn', b' h', b'ava', b' \\xc3\\xa7ok', b' ya', b'\\xc4\\x9f', b'm', b'url', b'u', b'.']\n"
          ]
        }
      ]
    },
    {
      "cell_type": "code",
      "source": [],
      "metadata": {
        "id": "FWickAA6P0Jm"
      },
      "execution_count": null,
      "outputs": []
    }
  ]
}