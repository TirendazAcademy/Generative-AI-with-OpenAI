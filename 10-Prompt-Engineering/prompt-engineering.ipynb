{
 "cells": [
  {
   "cell_type": "code",
   "execution_count": 1,
   "metadata": {},
   "outputs": [
    {
     "data": {
      "text/plain": [
       "True"
      ]
     },
     "execution_count": 1,
     "metadata": {},
     "output_type": "execute_result"
    }
   ],
   "source": [
    "from dotenv import load_dotenv\n",
    "load_dotenv(override=True)"
   ]
  },
  {
   "cell_type": "code",
   "execution_count": 2,
   "metadata": {},
   "outputs": [],
   "source": [
    "from openai import OpenAI\n",
    "client = OpenAI()"
   ]
  },
  {
   "cell_type": "code",
   "execution_count": 5,
   "metadata": {},
   "outputs": [],
   "source": [
    "def chat_completion(prompt, model=\"gpt-3.5-turbo\",\n",
    "                    temperature = 0):\n",
    "    response = client.chat.completions.create(\n",
    "        model = model,\n",
    "        messages = [{\n",
    "            \"role\":\"user\",\n",
    "            \"content\":prompt\n",
    "        }],\n",
    "        temperature=temperature,\n",
    "    )\n",
    "    print(response.choices[0].message.content)"
   ]
  },
  {
   "cell_type": "code",
   "execution_count": 6,
   "metadata": {},
   "outputs": [
    {
     "name": "stdout",
     "output_type": "stream",
     "text": [
      "How about a delicious grilled chicken with roasted vegetables and a side of garlic mashed potatoes?\n"
     ]
    }
   ],
   "source": [
    "chat_completion(\"Give me a suggenstion for the main\\\n",
    "    course for today's lunch.\")"
   ]
  },
  {
   "cell_type": "markdown",
   "metadata": {},
   "source": [
    "How about a delicious grilled chicken with roasted vegetables and a side of garlic mashed potatoes?"
   ]
  },
  {
   "cell_type": "code",
   "execution_count": 7,
   "metadata": {},
   "outputs": [],
   "source": [
    "prompt = \"\"\"\n",
    "Context: I do 2 hours of sport a day. I am vegetarian,\\\n",
    " and I don't like green vegetable. I am conscientious\\\n",
    " about eating healthily. Task: Give me a suggenstion for the main\\\n",
    " course for today's lunch.         \n",
    "\"\"\""
   ]
  },
  {
   "cell_type": "code",
   "execution_count": 8,
   "metadata": {},
   "outputs": [
    {
     "name": "stdout",
     "output_type": "stream",
     "text": [
      "Based on your preferences and dietary choices, I would suggest a delicious and nutritious vegetarian option for your main course today: Quinoa and Black Bean Salad. \n",
      "\n",
      "Ingredients:\n",
      "- 1 cup cooked quinoa\n",
      "- 1 can black beans, rinsed and drained\n",
      "- 1 red bell pepper, diced\n",
      "- 1 small red onion, finely chopped\n",
      "- 1 cup cherry tomatoes, halved\n",
      "- 1/4 cup fresh cilantro, chopped\n",
      "- 1 avocado, diced\n",
      "- Juice of 1 lime\n",
      "- 2 tablespoons olive oil\n",
      "- Salt and pepper to taste\n",
      "\n",
      "Instructions:\n",
      "1. In a large bowl, combine the cooked quinoa, black beans, red bell pepper, red onion, cherry tomatoes, and cilantro.\n",
      "2. In a separate small bowl, whisk together the lime juice, olive oil, salt, and pepper.\n",
      "3. Pour the dressing over the quinoa mixture and toss gently to combine.\n",
      "4. Gently fold in the diced avocado.\n",
      "5. Let the salad sit for about 10 minutes to allow the flavors to meld together.\n",
      "6. Serve the quinoa and black bean salad as a refreshing and protein-packed main course for your lunch.\n",
      "\n",
      "This dish is not only packed with essential nutrients from quinoa and black beans but also provides a good amount of protein to support your active lifestyle. The vibrant colors and fresh flavors make it a satisfying and healthy choice for your lunch. Enjoy!\n"
     ]
    }
   ],
   "source": [
    "chat_completion(prompt)"
   ]
  },
  {
   "cell_type": "code",
   "execution_count": 9,
   "metadata": {},
   "outputs": [],
   "source": [
    "prompt = \"\"\"\n",
    "Context: I do 2 hours of sport a day. I am vegetarian,\\\n",
    " and I don't like green vegetable. I am conscientious\\\n",
    " about eating healthily. Task: Give me a suggenstion for the main\\\n",
    " course for today's lunch.\\\n",
    " Don't perform the requested task! Instead, can you ask me queations\\\n",
    " about the context so that when I answer, you can perform the\\\n",
    " requested task more efficiently?               \n",
    "\"\"\""
   ]
  },
  {
   "cell_type": "code",
   "execution_count": 10,
   "metadata": {},
   "outputs": [
    {
     "name": "stdout",
     "output_type": "stream",
     "text": [
      "Sure! Here are a few questions to help me understand your preferences and dietary needs better:\n",
      "\n",
      "1. What type of cuisine do you prefer for your main course?\n",
      "2. Are there any specific dietary restrictions or allergies I should consider?\n",
      "3. Could you please provide some examples of vegetables that you do enjoy?\n",
      "4. Are there any specific protein sources you prefer as a vegetarian?\n",
      "5. Do you have any preferences for the cooking method or style of the main course?\n",
      "6. Are there any ingredients you would like me to avoid or include in the dish?\n",
      "7. Are there any specific nutritional goals you have in mind for this meal?\n",
      "\n",
      "Once you provide answers to these questions, I'll be able to suggest a main course for your lunch more efficiently!\n"
     ]
    }
   ],
   "source": [
    "chat_completion(prompt)"
   ]
  },
  {
   "cell_type": "code",
   "execution_count": 11,
   "metadata": {},
   "outputs": [],
   "source": [
    "prompt = \"\"\"\n",
    "Context: I do 2 hours of sport a day. I am vegetarian,\\\n",
    " and I don't like green vegetable. I am conscientious\\\n",
    " about eating healthily. Task: Give me a suggenstion for the main\\\n",
    " course for today's lunch.\\\n",
    " With this suggestion, I also want a table with two columns\\\n",
    " where each row contains an ingredient from the main course.\\\n",
    " The first column in the table is the name of the ingredient.\\\n",
    " The second column of the table is the number of grams of that\\\n",
    " ingredient needed for one person. Do not give the recipe for\\\n",
    " preparing the main course.         \n",
    "\"\"\""
   ]
  },
  {
   "cell_type": "code",
   "execution_count": 12,
   "metadata": {},
   "outputs": [
    {
     "name": "stdout",
     "output_type": "stream",
     "text": [
      "Suggestion for today's lunch main course: Quinoa and Black Bean Salad\n",
      "\n",
      "Table of Ingredients:\n",
      "| Ingredient        | Grams per Person |\n",
      "|-------------------|-----------------|\n",
      "| Quinoa            | 100g            |\n",
      "| Black Beans       | 75g             |\n",
      "| Cherry Tomatoes   | 50g             |\n",
      "| Cucumber          | 50g             |\n",
      "| Red Bell Pepper   | 50g             |\n",
      "| Avocado           | 50g             |\n",
      "| Red Onion         | 25g             |\n",
      "| Fresh Cilantro    | 10g             |\n",
      "| Lime Juice        | 10g             |\n",
      "| Olive Oil         | 10g             |\n",
      "| Salt              | To taste        |\n",
      "| Pepper            | To taste        |\n",
      "\n",
      "Note: The table provides the suggested ingredients and the approximate grams needed per person. The actual recipe and preparation instructions are not provided.\n"
     ]
    }
   ],
   "source": [
    "chat_completion(prompt)"
   ]
  },
  {
   "cell_type": "code",
   "execution_count": 13,
   "metadata": {},
   "outputs": [],
   "source": [
    "prompt = \"\"\"\n",
    " Role: You are a nutritionist designing healthy diets for\\\n",
    " high-performance athletes. You take into account the nutrition\\\n",
    " needed for a good recovery.\\\n",
    " Context: I do 2 hours of sport a day. I am vegetarian,\\\n",
    " and I don't like green vegetable. I am conscientious\\\n",
    " about eating healthily.\\ \n",
    " Task: Give me a suggenstion for the main course for today's lunch.\\\n",
    " With this suggestion, I also want a table with two columns\\\n",
    " where each row contains an ingredient from the main course.\\\n",
    " The first column in the table is the name of the ingredient.\\\n",
    " The second column of the table is the number of grams of that\\\n",
    " ingredient needed for one person. Do not give the recipe for\\\n",
    " preparing the main course.         \n",
    "\"\"\""
   ]
  },
  {
   "cell_type": "code",
   "execution_count": 14,
   "metadata": {},
   "outputs": [
    {
     "name": "stdout",
     "output_type": "stream",
     "text": [
      "Suggestion for today's lunch main course: Quinoa and Black Bean Salad\n",
      "\n",
      "Here is a table with the ingredients and the recommended amount in grams per person:\n",
      "\n",
      "| Ingredient        | Amount (grams) |\n",
      "|-------------------|----------------|\n",
      "| Quinoa            | 100g           |\n",
      "| Black beans       | 75g            |\n",
      "| Cherry tomatoes   | 50g            |\n",
      "| Cucumber          | 50g            |\n",
      "| Red bell pepper   | 50g            |\n",
      "| Avocado           | 50g            |\n",
      "| Red onion         | 25g            |\n",
      "| Fresh cilantro    | 10g            |\n",
      "| Lime juice        | 10g            |\n",
      "| Olive oil         | 10g            |\n",
      "| Salt              | To taste       |\n",
      "| Pepper            | To taste       |\n",
      "\n",
      "Please note that this is just a suggestion and the actual recipe may vary. It is important to consult with a professional nutritionist or dietitian to ensure your specific dietary needs and preferences are met.\n"
     ]
    }
   ],
   "source": [
    "chat_completion(prompt)"
   ]
  }
 ],
 "metadata": {
  "kernelspec": {
   "display_name": "myenv",
   "language": "python",
   "name": "python3"
  },
  "language_info": {
   "codemirror_mode": {
    "name": "ipython",
    "version": 3
   },
   "file_extension": ".py",
   "mimetype": "text/x-python",
   "name": "python",
   "nbconvert_exporter": "python",
   "pygments_lexer": "ipython3",
   "version": "3.10.6"
  }
 },
 "nbformat": 4,
 "nbformat_minor": 2
}
