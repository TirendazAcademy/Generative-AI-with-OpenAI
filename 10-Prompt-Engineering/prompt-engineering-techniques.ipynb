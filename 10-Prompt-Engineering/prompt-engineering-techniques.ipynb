{
 "cells": [
  {
   "cell_type": "code",
   "execution_count": 1,
   "metadata": {},
   "outputs": [
    {
     "data": {
      "text/plain": [
       "True"
      ]
     },
     "execution_count": 1,
     "metadata": {},
     "output_type": "execute_result"
    }
   ],
   "source": [
    "from dotenv import load_dotenv\n",
    "load_dotenv(override=True)"
   ]
  },
  {
   "cell_type": "code",
   "execution_count": 2,
   "metadata": {},
   "outputs": [],
   "source": [
    "from openai import OpenAI \n",
    "client = OpenAI()"
   ]
  },
  {
   "cell_type": "code",
   "execution_count": 3,
   "metadata": {},
   "outputs": [],
   "source": [
    "def chat_completion(prompt, model=\"gpt-3.5-turbo\",\n",
    "                    temperature = 0):\n",
    "    response = client.chat.completions.create(\n",
    "        model = model,\n",
    "        messages = [{\n",
    "            \"role\":\"user\",\n",
    "            \"content\":prompt\n",
    "        }],\n",
    "        temperature=temperature,\n",
    "    )\n",
    "    print(response.choices[0].message.content)"
   ]
  },
  {
   "cell_type": "code",
   "execution_count": 4,
   "metadata": {},
   "outputs": [],
   "source": [
    "prompt=\"\"\"\n",
    "my dog is sad --> 🐶 is 🥹\n",
    "I love my wife --> 😀 ❤️ my wife\n",
    "The boy love a girl --> \n",
    "\"\"\""
   ]
  },
  {
   "cell_type": "code",
   "execution_count": 5,
   "metadata": {},
   "outputs": [
    {
     "name": "stdout",
     "output_type": "stream",
     "text": [
      "👦 ❤️ a 👧\n"
     ]
    }
   ],
   "source": [
    "chat_completion(prompt)"
   ]
  },
  {
   "cell_type": "code",
   "execution_count": 6,
   "metadata": {},
   "outputs": [
    {
     "name": "stdout",
     "output_type": "stream",
     "text": [
      "246 x 1235 equals 303,810.\n"
     ]
    }
   ],
   "source": [
    "prompt = \"How much is 246 x 1235?\"\n",
    "\n",
    "chat_completion(prompt)"
   ]
  },
  {
   "cell_type": "code",
   "execution_count": 7,
   "metadata": {},
   "outputs": [
    {
     "name": "stdout",
     "output_type": "stream",
     "text": [
      "To calculate 246 multiplied by 1235 step by step, we can use the long multiplication method:\n",
      "\n",
      "          246\n",
      "    × 1235\n",
      "    _______\n",
      "          7380   (246 multiplied by 5)\n",
      "+       4920    (246 multiplied by 3, shifted one place to the left)\n",
      "+  1725       (246 multiplied by 2, shifted two places to the left)\n",
      "    _______\n",
      "    303810\n",
      "\n",
      "Therefore, 246 multiplied by 1235 equals 303,810.\n"
     ]
    }
   ],
   "source": [
    "prompt = \"How much is 246 x 1235? Let's think step by step.\"\n",
    "\n",
    "chat_completion(prompt)"
   ]
  },
  {
   "cell_type": "code",
   "execution_count": 8,
   "metadata": {},
   "outputs": [
    {
     "name": "stdout",
     "output_type": "stream",
     "text": [
      "{\n",
      "  \"animals\": [\n",
      "    \"lion\",\n",
      "    \"elephant\",\n",
      "    \"tiger\",\n",
      "    \"giraffe\",\n",
      "    \"zebra\"\n",
      "  ]\n",
      "}\n"
     ]
    }
   ],
   "source": [
    "prompt=\"Give a JSON output with 5 names of animals.\"\n",
    "\n",
    "chat_completion(prompt)"
   ]
  },
  {
   "cell_type": "code",
   "execution_count": null,
   "metadata": {},
   "outputs": [],
   "source": []
  }
 ],
 "metadata": {
  "kernelspec": {
   "display_name": "myenv",
   "language": "python",
   "name": "python3"
  },
  "language_info": {
   "codemirror_mode": {
    "name": "ipython",
    "version": 3
   },
   "file_extension": ".py",
   "mimetype": "text/x-python",
   "name": "python",
   "nbconvert_exporter": "python",
   "pygments_lexer": "ipython3",
   "version": "3.10.6"
  }
 },
 "nbformat": 4,
 "nbformat_minor": 2
}
